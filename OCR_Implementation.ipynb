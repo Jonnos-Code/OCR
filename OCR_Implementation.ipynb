{
  "nbformat": 4,
  "nbformat_minor": 0,
  "metadata": {
    "colab": {
      "provenance": [],
      "gpuType": "T4",
      "toc_visible": true
    },
    "kernelspec": {
      "name": "python3",
      "display_name": "Python 3"
    },
    "language_info": {
      "name": "python"
    },
    "gpuClass": "standard"
  },
  "cells": [
    {
      "cell_type": "markdown",
      "source": [
        "# Jonathan's Optical Character Recognition Program\n",
        "Welcome!"
      ],
      "metadata": {
        "id": "wVWZji8ryG_M"
      }
    },
    {
      "cell_type": "markdown",
      "source": [
        "### Libraries"
      ],
      "metadata": {
        "id": "8u30yyVoyqCw"
      }
    },
    {
      "cell_type": "code",
      "execution_count": null,
      "metadata": {
        "id": "_TgRObP5B0QK"
      },
      "outputs": [],
      "source": [
        "import numpy as np\n",
        "import torch\n",
        "import torch.nn as nn\n",
        "from torchvision import models, transforms, io\n",
        "import cv2\n",
        "import matplotlib.pyplot as plt\n",
        "from google.colab import drive\n",
        "import copy\n",
        "from tqdm import tqdm\n",
        "from PIL import Image as im\n",
        "from copy import deepcopy"
      ]
    },
    {
      "cell_type": "markdown",
      "source": [
        "### Setup and Settings\n",
        "Mounting Drive and configuring the program"
      ],
      "metadata": {
        "id": "DyvMqdi9y5Ua"
      }
    },
    {
      "cell_type": "code",
      "source": [
        "drive.mount('/content/drive')"
      ],
      "metadata": {
        "id": "HokuuJoHCGO6",
        "colab": {
          "base_uri": "https://localhost:8080/"
        },
        "outputId": "afb3de99-1fba-4d6f-c59f-d67f11e0ebb3"
      },
      "execution_count": null,
      "outputs": [
        {
          "output_type": "stream",
          "name": "stdout",
          "text": [
            "Mounted at /content/drive\n"
          ]
        }
      ]
    },
    {
      "cell_type": "markdown",
      "source": [
        "In this cell, there are 5 settings:\n",
        " - `model` is the path of the neural network that will be used\n",
        " - `classes` is the path of a stored list of class names\n",
        " - `path` is the path of the image to be read; two example images are provided on the github\n",
        " - `device` which will configure itself based on hardware acceleration\n",
        " - `invert` which will invert the colors of the image\n",
        "  - Images must be light text on dark background to process\n",
        "  - Enable `invert` if text is dark on light, as is normal for papers\n",
        "\n",
        "If the image is detected successfully, it will display on this cell's output."
      ],
      "metadata": {
        "id": "dYDwjkYUzHi5"
      }
    },
    {
      "cell_type": "code",
      "source": [
        "model = '/content/drive/MyDrive/Datasets/EMNIST/saved models/jnet-expanded-1.dat'\n",
        "classes = '/content/drive/MyDrive/Datasets/EMNIST/data/class_names.dmp'\n",
        "path = '/content/drive/MyDrive/test.png'\n",
        "device = torch.device(\"cuda:0\" if torch.cuda.is_available() else \"cpu\")\n",
        "invert = False\n",
        "raw = im.open(path)\n",
        "raw"
      ],
      "metadata": {
        "colab": {
          "base_uri": "https://localhost:8080/",
          "height": 360
        },
        "id": "8CP7b8YGCJqT",
        "outputId": "27e2b603-45c4-433c-b7bd-d30994a1157d"
      },
      "execution_count": null,
      "outputs": [
        {
          "output_type": "execute_result",
          "data": {
            "text/plain": [
              "<PIL.PngImagePlugin.PngImageFile image mode=RGBA size=657x343>"
            ],
            "image/png": "[encoded data removed]"
          },
          "metadata": {},
          "execution_count": 9
        }
      ]
    },
    {
      "cell_type": "markdown",
      "source": [
        "## Preprocessing\n",
        "This section imports the image and prepares it to be read by the neural network.\n",
        "\n",
        "It has 4 subsections:\n",
        " 1. Setup: Makes image grayscale, inverts if applicable, and then normalizes\n",
        " 2. Splitting: Tries to find and separate the image where it can find lines of text\n",
        " 3. Sampling: Crops the lines at every possible area to ensure every character is found\n",
        " 4. Interpreting: Filters through the 'loaf' of image samples to find the best pictures of individual characters\n",
        "\n",
        "Note: Interpreting, typically having to filter through thousands of images, may take some time."
      ],
      "metadata": {
        "id": "f9UUeNIuCem5"
      }
    },
    {
      "cell_type": "markdown",
      "source": [
        "### Image Setup"
      ],
      "metadata": {
        "id": "WyJT4BIyCb_S"
      }
    },
    {
      "cell_type": "markdown",
      "source": [
        "Image setup; imports the image, grayscales it, and inverts if necessary"
      ],
      "metadata": {
        "id": "f02v0PhK1EAi"
      }
    },
    {
      "cell_type": "code",
      "source": [
        "image = im.open(path)\n",
        "image = image.convert('L')\n",
        "image = image.convert('RGB')\n",
        "image = np.array(image.getdata()).reshape(image.size[1], image.size[0], 3).astype(float)/255\n",
        "if invert: image = 1 - image\n",
        "im.fromarray((image*255).astype(np.uint8)).show()"
      ],
      "metadata": {
        "id": "oaPYWXGACwiZ"
      },
      "execution_count": null,
      "outputs": []
    },
    {
      "cell_type": "markdown",
      "source": [
        "This cell defines transformations to normalize and move to a tensor format"
      ],
      "metadata": {
        "id": "l3Td1nCx1JH1"
      }
    },
    {
      "cell_type": "code",
      "source": [
        "Tensor = transforms.Compose([\n",
        "    transforms.ToTensor()\n",
        "])\n",
        "image = Tensor(image)\n",
        "mean, std = image.mean([1,2]), image.std([1,2])\n",
        "Normalize = transforms.Compose([\n",
        "    transforms.Normalize(mean,std)\n",
        "])"
      ],
      "metadata": {
        "id": "xDkvc5LXDHI0"
      },
      "execution_count": null,
      "outputs": []
    },
    {
      "cell_type": "markdown",
      "source": [
        "Here, images are normalized, returned to array form, and given a threshold to keep bright pixels"
      ],
      "metadata": {
        "id": "rKNyPsSF1Odi"
      }
    },
    {
      "cell_type": "code",
      "source": [
        "image = Normalize(image)\n",
        "image = image.numpy().transpose(1,2,0)\n",
        "image[image < 0.75], image[image > 1] = 0,1"
      ],
      "metadata": {
        "id": "IbpHeExIDOD6"
      },
      "execution_count": null,
      "outputs": []
    },
    {
      "cell_type": "code",
      "source": [
        "im.fromarray((image*255).astype(np.uint8)).show()"
      ],
      "metadata": {
        "id": "zXGXp1udCSWl"
      },
      "execution_count": null,
      "outputs": []
    },
    {
      "cell_type": "markdown",
      "source": [
        "### Line Splitter"
      ],
      "metadata": {
        "id": "HWL60uTnCkXp"
      }
    },
    {
      "cell_type": "markdown",
      "source": [
        "In this cell, the image is averaged at every line of pixels to see if it is potentially a line of text\n",
        "\n",
        "It outputs a list of booleans based on where it finds them, stored in `linemap`"
      ],
      "metadata": {
        "id": "hOVULImg1kAe"
      }
    },
    {
      "cell_type": "code",
      "source": [
        "linemap = []\n",
        "for i in image:\n",
        "  linemap.append(np.mean(i))\n",
        "linemap = [x for x in np.array(linemap) > 0.0025]"
      ],
      "metadata": {
        "id": "NPu4TAPuDZxh"
      },
      "execution_count": null,
      "outputs": []
    },
    {
      "cell_type": "markdown",
      "source": [
        "This cell uses `linemap` to extract an image for every continuous set of true values, stored in `lines`"
      ],
      "metadata": {
        "id": "ju_UeiOB18bS"
      }
    },
    {
      "cell_type": "code",
      "source": [
        "lines, j = [], 0\n",
        "for i,b in enumerate(linemap):\n",
        "  if b:\n",
        "    if len(lines) > 0 and not linemap[i-1]:\n",
        "      j += 1\n",
        "    if j + 1 == len(lines):\n",
        "      lines[j] = np.append(lines[j], np.expand_dims(image[i],0), 0)\n",
        "    else:\n",
        "      lines.append(np.expand_dims(image[i],0))"
      ],
      "metadata": {
        "id": "KbvS9LqPD17I"
      },
      "execution_count": null,
      "outputs": []
    },
    {
      "cell_type": "markdown",
      "source": [
        "### Image Sampling"
      ],
      "metadata": {
        "id": "7dLx-bnPCnNX"
      }
    },
    {
      "cell_type": "markdown",
      "source": [
        "This cell:\n",
        " 1. Scales lines to have a height of 24 pixels\n",
        " 2. Crops them to remove any hanging areas\n",
        " 3. Pads them to allow more potential areas in sampling\n",
        "\n",
        "The reulting images are then stored in `mlines`"
      ],
      "metadata": {
        "id": "c26DWPW42G-J"
      }
    },
    {
      "cell_type": "code",
      "source": [
        "mlines = []\n",
        "for i in range(len(lines)):\n",
        "  h = int(lines[i].shape[1] * 24/np.max((lines[i].shape[0],12)))\n",
        "  mlines.append(cv2.resize(deepcopy(lines[i]),(h,24)))\n",
        "  mlines[i] = im.fromarray((mlines[i]*255).astype(np.uint8))\n",
        "  mlines[i] = np.asarray(mlines[i].crop(mlines[i].getbbox())) / 255.\n",
        "  mlines[i] = cv2.copyMakeBorder(mlines[i],8,8,10,10,cv2.BORDER_CONSTANT)"
      ],
      "metadata": {
        "id": "UIkW905sD_aV"
      },
      "execution_count": null,
      "outputs": []
    },
    {
      "cell_type": "markdown",
      "source": [
        "Using the outputs from the previous cell, this loops through every pixel in each line and returns an image for its local area\n",
        "\n",
        "This is then stored in `loaf`, named for being a large, 5-dimensional set of data"
      ],
      "metadata": {
        "id": "CtFz8pFK2naW"
      }
    },
    {
      "cell_type": "code",
      "source": [
        "loaf = []\n",
        "for i in range(len(mlines)):\n",
        "  loaf.append([])\n",
        "  for j in range(mlines[i].shape[1]-28):\n",
        "    loaf[i].append(deepcopy(mlines[i][:,j:j+28]))"
      ],
      "metadata": {
        "id": "ZRx66Fd8ERXT"
      },
      "execution_count": null,
      "outputs": []
    },
    {
      "cell_type": "markdown",
      "source": [
        "### Interpretation"
      ],
      "metadata": {
        "id": "RM6tEy1_Eh7M"
      }
    },
    {
      "cell_type": "markdown",
      "source": [
        "This function- dubbed \"greenerizing\"- is the most integral part to finding which images from the loaf are viable candidates to be used.\n",
        "\n",
        "It works by:\n",
        " 1. Tinting every white pixel in the center of an image green\n",
        " 2. Then, in a loop, tints every pixel neighboring a green pixel green\n",
        " 3. After the loop, it throws away all remaining non-green pixels and restores all others to white\n",
        "\n",
        "In doing this, this function will isolate whichever figure is in the middle of an image."
      ],
      "metadata": {
        "id": "LQkkw1T93GRz"
      }
    },
    {
      "cell_type": "code",
      "source": [
        "def greenerize(input):\n",
        "  otpt = deepcopy(input)\n",
        "  for t in (0,1,2):\n",
        "    for r in range(13):\n",
        "      for p in np.arange(1,len(otpt)-1):\n",
        "        # Green Stripe\n",
        "        if r==0 and p < len(otpt)-2:\n",
        "          for s in range(2):\n",
        "            otpt[p+1,13+s] = (0,otpt[p+1,13+s,1],0)\n",
        "        # Greenify nearby pixels per loop\n",
        "        if any(((otpt[p-1,13-r,0] < otpt[p-1,13-r,1] and otpt[p-1,13-r,1] > 0.5), (otpt[p,13-r,0] < otpt[p,13-r,1] and otpt[p,13-r,1] > 0.5), (otpt[p+1,13-r,0] < otpt[p+1,13-r,1] and otpt[p+1,13-r,1] > 0.5))): otpt[p,12-r] = (0,otpt[p,12-r,1],0)\n",
        "        if any(((otpt[p-1,14+r,0] < otpt[p-1,14+r,1] and otpt[p-1,14+r,1] > 0.5), (otpt[p,14+r,0] < otpt[p,14+r,1] and otpt[p,14+r,1] > 0.5), (otpt[p+1,14+r,0] < otpt[p+1,14+r,1] and otpt[p+1,14+r,1] > 0.5))): otpt[p,15+r] = (0,otpt[p,15+r,1],0)\n",
        "    for r in range(39):\n",
        "      for p in range(28):\n",
        "        if otpt[r-1,p,0] < otpt[r-1,p,1] and otpt[r-1,p,1] > 0.5: otpt[r,p] = (0,otpt[r,p,1],0)\n",
        "        if otpt[39-r,p,0] < otpt[39-r,p,1] and otpt[39-r,p,1] > 0.5: otpt[38-r,p] = (0,otpt[38-r,p,1],0)\n",
        "  for r in range(28):\n",
        "    for p in range(40):\n",
        "      # Remove non-green pixels\n",
        "      if otpt[p,r,1] > otpt[p,r,0]: otpt[p,r] = (otpt[p,r,1],otpt[p,r,1],otpt[p,r,1])\n",
        "      else: otpt[p,r] = (0,0,0)\n",
        "  return otpt"
      ],
      "metadata": {
        "id": "7AM6sacnISIO"
      },
      "execution_count": null,
      "outputs": []
    },
    {
      "cell_type": "markdown",
      "source": [
        "This cell has all the logic used to determine which characters are valid to send to the neural network.\n",
        "\n",
        "For each image in each line of `loaf`, it:\n",
        " 1. Tests to see if the center of is empty, in which interprets as a space, and stores the index in `spaces`\n",
        " 2. Greenerizes them (see previous cell)\n",
        " 3. Tests to see that the left and right margins of the image are equal\n",
        " 4. Tests to see if the image still contains multiple characters\n",
        "  - If it is, it sends a note forward to see if other future images are also attached\n",
        "  - Future attached images are then edited to be valid entries\n",
        " 5. Finally, any valid images at this point are cropped 28 pixels height and appended to `stack`\n",
        "\n",
        "After this cell runs, `stack` should include only centered characters and `spaces` should include the index of each space in a line"
      ],
      "metadata": {
        "id": "3XriLP2y334y"
      }
    },
    {
      "cell_type": "code",
      "source": [
        "stack, spaces = [], []\n",
        "for i in range(len(loaf)):\n",
        "  stack.append([]),spaces.append([])\n",
        "  note = -1\n",
        "  for j in tqdm(range(len(loaf[i]))):\n",
        "    elem = deepcopy(loaf[i][j])\n",
        "    elem[elem<=0.1] = 0\n",
        "    # Space Detection\n",
        "    if all(np.mean(np.mean(elem,0),1)[12:17] == 0) and len(stack[i]) >= 1:\n",
        "      if len(spaces[i]) == 0 or spaces[i][-1] != len(stack[i]):\n",
        "        spaces[i].append(len(stack[i]))\n",
        "    # Greenerizing\n",
        "    elem = greenerize(elem)\n",
        "    # Filtering\n",
        "    elem = im.fromarray((elem*255).astype(np.uint8))\n",
        "    box,typ = elem.getbbox(),''\n",
        "    if box == None: continue\n",
        "    if box[0] == 7 and box[2] == 28 and j+7 < len(loaf[i]) and  all(np.mean(np.mean(greenerize(loaf[i][j+7]),0),1) > 0): typ,note = 'break',j+14\n",
        "    if box[0] == 0 and box[2] == 21 and j-7 >= 0 and all(np.mean(np.mean(greenerize(loaf[i][j-7]),0),1) > 0): typ = 'break'\n",
        "    if box[0] == 0 and box[2] == 28 and note == j: typ = 'break'\n",
        "    if typ == '' and (box[0]+box[2]-28 == 0 if (box[0]+box[2])%2 == 0 else box[0]+box[2]-28 == 1): typ = 'norm'\n",
        "    if typ == 'break' or typ == 'norm':\n",
        "      # Crop to center\n",
        "      dh = box[3] - box[1]\n",
        "      h1,h2 = (int(box[1]-(28-dh)/2) if dh%2 == 0 else int(box[1]-(27-dh)/2)),(int(box[3]+(28-dh)/2) if dh%2 == 0 else int(box[3]+(29-dh)/2))\n",
        "      elem = np.asarray(elem.crop((0,h1,28,h2)))/255.\n",
        "      # Split Touching Characters\n",
        "      if typ == 'break': elem[:,21:],elem[:,:7] = 0,0\n",
        "      if all(np.mean(np.mean(elem,0),1)[12:17] > 0.01):\n",
        "        if np.mean(np.mean(elem,0),1)[0] == 0 and np.mean(np.mean(elem,0),1)[27] == 0:\n",
        "          # Append finalized character, few will make it this far!\n",
        "          stack[i].append(elem)"
      ],
      "metadata": {
        "colab": {
          "base_uri": "https://localhost:8080/"
        },
        "id": "J9StKL4eEXVz",
        "outputId": "93c7836c-5201-4b44-9e8f-7d6b3c83c2bc"
      },
      "execution_count": null,
      "outputs": [
        {
          "output_type": "stream",
          "name": "stderr",
          "text": [
            "100%|██████████| 531/531 [00:11<00:00, 48.25it/s]\n",
            "100%|██████████| 1222/1222 [00:26<00:00, 45.65it/s]\n",
            "100%|██████████| 682/682 [00:10<00:00, 62.21it/s]\n",
            "100%|██████████| 1222/1222 [00:28<00:00, 42.88it/s]\n",
            "100%|██████████| 515/515 [00:08<00:00, 62.94it/s]\n",
            "100%|██████████| 1222/1222 [00:25<00:00, 47.20it/s]\n",
            "100%|██████████| 538/538 [00:10<00:00, 49.10it/s]\n"
          ]
        }
      ]
    },
    {
      "cell_type": "markdown",
      "source": [
        "## Model\n",
        "This section prepares the neural network and reads the previously generated character images.\n",
        "\n",
        "It also has 4 subsections:\n",
        " 1. Preparation: Creating the model framework and loading it in from the path\n",
        " 2. Modeling: Applying the model to the character images\n",
        " 3. Processing: Taking the model's outputs and turning them into readable text\n",
        " 4. Output: Presenting the final results\n",
        "\n",
        "Ensure you have a valid, trained model file for this to run properly."
      ],
      "metadata": {
        "id": "GXRS0POcEyM0"
      }
    },
    {
      "cell_type": "markdown",
      "source": [
        "### Preparation"
      ],
      "metadata": {
        "id": "5cP1FShQI0cx"
      }
    },
    {
      "cell_type": "markdown",
      "source": [
        "This model uses Alexnet as a template."
      ],
      "metadata": {
        "id": "2Y6Yp0rz6JpT"
      }
    },
    {
      "cell_type": "code",
      "source": [
        "alexnet = models.alexnet(weights = None)"
      ],
      "metadata": {
        "id": "VmX0LMeII4KY"
      },
      "execution_count": null,
      "outputs": []
    },
    {
      "cell_type": "markdown",
      "source": [
        "In order to support 28x28 images, the network has to be edited:\n",
        " - The layers around convolution steps 3 and 4 are deleted\n",
        " - The remaining convolutional layers must use smaller kernels with padding\n",
        " - The final classification layer must output to 67 classes instead of 1000"
      ],
      "metadata": {
        "id": "16nxmZna6VEa"
      }
    },
    {
      "cell_type": "code",
      "source": [
        "jnet = copy.deepcopy(alexnet)\n",
        "del(jnet.features[5:10])\n",
        "jnet.features[0] = nn.Conv2d(3, 32, kernel_size=(5,5), stride=(1,1), padding='same')\n",
        "jnet.features[3] = nn.Conv2d(32, 64, kernel_size=(3,3), stride=(1,1), padding='same')\n",
        "jnet.features[5] = nn.Conv2d(64, 256, kernel_size=(3,3), stride=(1,1), padding='same')\n",
        "jnet.classifier[6] = nn.Linear(4096, 67)\n",
        "jnet = jnet.to(device)"
      ],
      "metadata": {
        "id": "1gKOouNII_xy"
      },
      "execution_count": null,
      "outputs": []
    },
    {
      "cell_type": "markdown",
      "source": [
        "Loading the trained model and class names"
      ],
      "metadata": {
        "id": "KJko-rBY65QB"
      }
    },
    {
      "cell_type": "code",
      "source": [
        "jnet.load_state_dict(torch.load(model,map_location=device))\n",
        "class_names = torch.load(classes)"
      ],
      "metadata": {
        "id": "WeDT-nmEJDTZ"
      },
      "execution_count": null,
      "outputs": []
    },
    {
      "cell_type": "markdown",
      "source": [
        "### Modeling"
      ],
      "metadata": {
        "id": "PqA97wB7I2of"
      }
    },
    {
      "cell_type": "markdown",
      "source": [
        "In order to work with the neural network, the data must first be moved to a Tensor on the valid device.\n",
        "\n",
        "All the characters in each line are stacked into a single tensor."
      ],
      "metadata": {
        "id": "IL77iNWS7OVG"
      }
    },
    {
      "cell_type": "code",
      "source": [
        "data = []\n",
        "for i in range(len(stack)):\n",
        "  data.append([])\n",
        "  for j in range(len(stack[i])):\n",
        "    data[i].append(Tensor(stack[i][j]))\n",
        "  data[i] = torch.stack(data[i],0).type(torch.float32) if not torch.cuda.is_available() else torch.stack(data[i],0).type(torch.cuda.FloatTensor)"
      ],
      "metadata": {
        "id": "DoEss9d5F8m5"
      },
      "execution_count": null,
      "outputs": []
    },
    {
      "cell_type": "markdown",
      "source": [
        "Finally, the tensors are sent through the model; the outputs are sent to `predictions` as an array of integers referring to classes."
      ],
      "metadata": {
        "id": "yY2h_75X7jgD"
      }
    },
    {
      "cell_type": "code",
      "source": [
        "jnet.eval()\n",
        "predictions = []\n",
        "for i in range(len(data)):\n",
        "  output = jnet(data[i].to(device))\n",
        "  output = torch.max(output, 1)[1]\n",
        "  predictions.append(output.cpu().detach().numpy())"
      ],
      "metadata": {
        "id": "Qxa5ctIcKHF2"
      },
      "execution_count": null,
      "outputs": []
    },
    {
      "cell_type": "markdown",
      "source": [
        "### Processing"
      ],
      "metadata": {
        "id": "P2XBq7U17DkL"
      }
    },
    {
      "cell_type": "markdown",
      "source": [
        "This cell substitutes the integers from the predictions to the corresponding class in `class_names`."
      ],
      "metadata": {
        "id": "LVDx3Xh37y07"
      }
    },
    {
      "cell_type": "code",
      "source": [
        "for i in range(len(predictions)):\n",
        "  predictions[i] = [class_names[x] for x in predictions[i]]"
      ],
      "metadata": {
        "id": "buas4hUyUETN"
      },
      "execution_count": null,
      "outputs": []
    },
    {
      "cell_type": "markdown",
      "source": [
        "Here, spaces are appended to the predictions at every index in `spaces`."
      ],
      "metadata": {
        "id": "6Gt9c9SF7_gK"
      }
    },
    {
      "cell_type": "code",
      "source": [
        "for i in range(len(spaces)):\n",
        "  for j,k in enumerate(spaces[i]):\n",
        "    predictions[i].insert(j+k,' ')"
      ],
      "metadata": {
        "id": "OSJG0kVKM7sq"
      },
      "execution_count": null,
      "outputs": []
    },
    {
      "cell_type": "markdown",
      "source": [
        "### Output"
      ],
      "metadata": {
        "id": "txobHqiz7HtA"
      }
    },
    {
      "cell_type": "markdown",
      "source": [
        "Run this to get the model's interpretation of the image's text!"
      ],
      "metadata": {
        "id": "MPtvF9sb8I3v"
      }
    },
    {
      "cell_type": "code",
      "source": [
        "print('Input:')\n",
        "display(raw)\n",
        "print('\\nOutputs:\\n'+'-'*25)\n",
        "for i in range(len(predictions)):\n",
        "  print(''.join(predictions[i]))"
      ],
      "metadata": {
        "id": "U0970xUlOJE5",
        "colab": {
          "base_uri": "https://localhost:8080/",
          "height": 551
        },
        "outputId": "bdbac3c1-0ce6-408e-c513-f383808a31bb"
      },
      "execution_count": null,
      "outputs": [
        {
          "output_type": "stream",
          "name": "stdout",
          "text": [
            "Input:\n"
          ]
        },
        {
          "output_type": "display_data",
          "data": {
            "text/plain": [
              "<PIL.PngImagePlugin.PngImageFile image mode=RGBA size=657x343>"
            ],
            "image/png": "[encoded data removed]"
          },
          "metadata": {}
        },
        {
          "output_type": "stream",
          "name": "stdout",
          "text": [
            "\n",
            "Outputs:\n",
            "-------------------------\n",
            "Tne quick Drovnn qoxjumps overine iazy dog\n",
            "&&&&&&&&&&&&&&&&&&&&&&&&&&&&&&&&&&&&&&&&&&&&&&&&&&&&&&&\n",
            "zuo g4:cx bio*n Eoz jnups ovo* tno 2az8 aog\n",
            "&&&&&&&&&&&&&&&&&&&&&&&&&&&&&&&&&&&&&&&&&&&&&&&&&&&&&&&\n",
            "The qui:k brown fo*jumps oer :ho lom dog\n",
            "&&&&&&&&&&&&&&&&&&&&&&&&&&&&&&&&&&&&&&&&&&&&&&&&&&&&&&&\n",
            "zue qwdkbba mxjvwuBs ov:weiwy adB\n"
          ]
        }
      ]
    }
  ]
}